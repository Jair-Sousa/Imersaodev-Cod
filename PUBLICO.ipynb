{
  "nbformat": 4,
  "nbformat_minor": 0,
  "metadata": {
    "colab": {
      "provenance": [],
      "authorship_tag": "ABX9TyNkb6hxUhnp87dvefCzHtVC",
      "include_colab_link": true
    },
    "kernelspec": {
      "name": "python3",
      "display_name": "Python 3"
    },
    "language_info": {
      "name": "python"
    }
  },
  "cells": [
    {
      "cell_type": "markdown",
      "metadata": {
        "id": "view-in-github",
        "colab_type": "text"
      },
      "source": [
        "<a href=\"https://colab.research.google.com/github/Jair-Sousa/imersaodev-cod/blob/main/PUBLICO.ipynb\" target=\"_parent\"><img src=\"https://colab.research.google.com/assets/colab-badge.svg\" alt=\"Open In Colab\"/></a>"
      ]
    },
    {
      "cell_type": "code",
      "execution_count": 2,
      "metadata": {
        "colab": {
          "base_uri": "https://localhost:8080/"
        },
        "id": "_rVTRwXLY5sV",
        "outputId": "5904db18-17e7-4118-e469-b014a67bc4c7"
      },
      "outputs": [
        {
          "output_type": "stream",
          "name": "stdout",
          "text": [
            "Digite o valor realizado: 900\n",
            "Digite o valor objetivo: 750\n",
            "Diferença absoluta: 150.0\n",
            "Percentual de diferença: 20.0%\n",
            "Parabens! O realizado superou o objetivo!\n"
          ]
        }
      ],
      "source": [
        "# PS2 Desafio Vendas\n",
        "import math\n",
        "\n",
        "realizado = float(input(\"Digite o valor realizado: \"))\n",
        "objetivo = float(input(\"Digite o valor objetivo: \"))\n",
        "\n",
        "diferenca = realizado - objetivo\n",
        "percentual = (diferenca / objetivo) * 100\n",
        "\n",
        "print(f\"Diferença absoluta: {diferenca}\")\n",
        "print(f\"Percentual de diferença: {percentual}%\")\n",
        "\n",
        "if realizado > objetivo:\n",
        "  print(\"Parabens! O realizado superou o objetivo!\")\n",
        "\n",
        "else:\n",
        "  print(\"Vamos trabalhar para superar o objetivo da próxima vez!\")"
      ]
    }
  ]
}